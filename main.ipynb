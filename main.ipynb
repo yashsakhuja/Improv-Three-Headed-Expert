{
 "cells": [
  {
   "cell_type": "code",
   "execution_count": 142,
   "metadata": {},
   "outputs": [],
   "source": [
    "import warnings\n",
    "warnings.filterwarnings('ignore')"
   ]
  },
  {
   "cell_type": "code",
   "execution_count": 143,
   "metadata": {},
   "outputs": [],
   "source": [
    "from crewai import LLM\n",
    "from dotenv import load_dotenv\n",
    "import os\n",
    "\n",
    "load_dotenv()\n",
    "\n",
    "gemini_llm = LLM(\n",
    "    model=\"gemini/gemini-2.0-flash-exp\",\n",
    "    temperature=0.7,\n",
    "    api_key=os.getenv('GOOGLE_API_KEY')\n",
    ")\n",
    "\n",
    "llama_llm=LLM(\n",
    "    model=\"sambanova/Meta-Llama-3.1-8B-Instruct\",\n",
    "    temperature=0.8,\n",
    "    api_key=os.getenv('SAMBANOVA_API_KEY')\n",
    ")\n",
    "\n",
    "ds_llm=LLM(\n",
    "    model=\"sambanova/DeepSeek-R1-Distill-Llama-70B\",\n",
    "    temperature=0.4,\n",
    "    api_key=os.getenv('SN_API_KEY'),\n",
    ")\n"
   ]
  },
  {
   "cell_type": "code",
   "execution_count": 144,
   "metadata": {},
   "outputs": [],
   "source": [
    "from crewai import Agent, Task, Crew, Process"
   ]
  },
  {
   "cell_type": "code",
   "execution_count": 145,
   "metadata": {},
   "outputs": [],
   "source": [
    "## Enter Game Prompts\n",
    "expert_name=\"Cobbie Coleman\"\n",
    "expertise_field=\"Cobbler\""
   ]
  },
  {
   "cell_type": "code",
   "execution_count": 147,
   "metadata": {},
   "outputs": [
    {
     "name": "stdout",
     "output_type": "stream",
     "text": [
      "LLM value is already an LLM object\n"
     ]
    }
   ],
   "source": [
    "## Agent Victoria- based on Gemini-2.0\n",
    "Victoria = Agent(\n",
    "    role=\"3 Headed Expert Game Question Generator\",\n",
    "    goal=\"Generate fun and engaging questions for the 3 headed expert improv games based on assistance prompts.\",\n",
    "    backstory=\"\"\"\"You are given a made-up expert name and field of expertise for the expert.\n",
    "    Based on this information you are asked to generate fun and engaging questions for experts to build an interview scene on.\"\"\",\n",
    "    verbose=True,\n",
    "    llm=gemini_llm\n",
    ")"
   ]
  },
  {
   "cell_type": "code",
   "execution_count": 148,
   "metadata": {},
   "outputs": [],
   "source": [
    "question_gen_task= Task(\n",
    "    description=\"\"\"Generate fun and engaging questions for the 3 headed expert games based on the prompt for the expert {expert_name} who\n",
    "    is an expert in the field of {expertise_field}. make sure you generate simple questions so that it suits a 12-15 year old in the audience.\n",
    "    Ensure that the questions generated are personal to the expert's life and are simple not complex\"\"\",\n",
    "    expected_output=\"\"\"Just a single question in text format for the 3-headed expert game.\"\"\",\n",
    "    agent=Victoria,\n",
    ")"
   ]
  },
  {
   "cell_type": "code",
   "execution_count": 149,
   "metadata": {},
   "outputs": [
    {
     "name": "stderr",
     "output_type": "stream",
     "text": [
      "WARNING:opentelemetry.trace:Overriding of current TracerProvider is not allowed\n"
     ]
    }
   ],
   "source": [
    "crew = Crew(\n",
    "    agents=[Victoria],\n",
    "    tasks=[question_gen_task],\n",
    "    \n",
    "    verbose=True\n",
    ")"
   ]
  },
  {
   "cell_type": "code",
   "execution_count": 150,
   "metadata": {},
   "outputs": [
    {
     "name": "stdout",
     "output_type": "stream",
     "text": [
      "\u001b[1m\u001b[95m# Agent:\u001b[00m \u001b[1m\u001b[92m3 Headed Expert Game Question Generator\u001b[00m\n",
      "\u001b[95m## Task:\u001b[00m \u001b[92mGenerate fun and engaging questions for the 3 headed expert games based on the prompt for the expert Cobbie Coleman who\n",
      "    is an expert in the field of Cobbler. make sure you generate simple questions so that it suits a 12-15 year old in the audience.\n",
      "    Ensure that the questions generated are personal to the expert's life and are simple not complex\u001b[00m\n",
      "\n",
      "\n",
      "\u001b[1m\u001b[95m# Agent:\u001b[00m \u001b[1m\u001b[92m3 Headed Expert Game Question Generator\u001b[00m\n",
      "\u001b[95m## Final Answer:\u001b[00m \u001b[92m\n",
      "Cobbie, what's the most unusual thing you've ever had to fix with your cobbling skills?\u001b[00m\n",
      "\n",
      "\n"
     ]
    }
   ],
   "source": [
    "crew_output = crew.kickoff(inputs={'expert_name': expert_name, 'expertise_field':expertise_field})"
   ]
  },
  {
   "cell_type": "code",
   "execution_count": 151,
   "metadata": {},
   "outputs": [
    {
     "name": "stdout",
     "output_type": "stream",
     "text": [
      "Cobbie, what's the most unusual thing you've ever had to fix with your cobbling skills?\n"
     ]
    }
   ],
   "source": [
    "# Extract the raw output\n",
    "question = crew_output.raw\n",
    "print(question)"
   ]
  },
  {
   "cell_type": "markdown",
   "metadata": {},
   "source": [
    "#### Agentic Loop"
   ]
  },
  {
   "cell_type": "code",
   "execution_count": 152,
   "metadata": {},
   "outputs": [],
   "source": [
    "sentence=\"\""
   ]
  },
  {
   "cell_type": "code",
   "execution_count": 153,
   "metadata": {},
   "outputs": [
    {
     "name": "stdout",
     "output_type": "stream",
     "text": [
      "LLM value is already an LLM object\n"
     ]
    }
   ],
   "source": [
    "## Agent Waterloo- based on LLAMA-3.1-8B-Instruct\n",
    "Waterloo = Agent(\n",
    "    role=\"Player 1 in the 3 headed expert game\",\n",
    "    goal=\"Generate only one word based on the question and the sentence uptil now provided to you\",\n",
    "    backstory=\"\"\"\"You are the player 1 in the improvisation game of 3 headed expert. \n",
    "    You will be given a question and a sentence and you need to say the next word to fill the sentence as an expert.\n",
    "    Before generating the word you send the sentence to the Sentence Reviewer (agent Twyford)\n",
    "    and then only generate the word if the generate returns output as YES\"\"\",\n",
    "    verbose=True,\n",
    "    llm=llama_llm\n",
    ")"
   ]
  },
  {
   "cell_type": "code",
   "execution_count": 154,
   "metadata": {},
   "outputs": [
    {
     "name": "stdout",
     "output_type": "stream",
     "text": [
      "LLM value is already an LLM object\n"
     ]
    }
   ],
   "source": [
    "## Agent Farringdon- based on Deepseek-LLama\n",
    "Farringdon = Agent(\n",
    "    role=\"Player 3 in the 3 headed expert game\",\n",
    "    goal=\"Generate only one word based on the question and the sentence uptil now provided to you\",\n",
    "    backstory=\"\"\"\"You are the player 3 in the improvisation game of 3 headed expert. \n",
    "    You will be given a question and a sentence and you need to say the next word to fill the sentence as an expert.\n",
    "    Before generating the word you send the sentence to the Sentence Reviewer (agent Twyford)\n",
    "    and then only generate the word if the generate returns output as YES\"\"\",\n",
    "    verbose=True,\n",
    "    llm=gemini_llm\n",
    ")"
   ]
  },
  {
   "cell_type": "code",
   "execution_count": 155,
   "metadata": {},
   "outputs": [
    {
     "name": "stdout",
     "output_type": "stream",
     "text": [
      "LLM value is already an LLM object\n"
     ]
    }
   ],
   "source": [
    "## Agent Farringdon- based on Gemini-2.0\n",
    "Twyford = Agent(\n",
    "    role=\"Improv Expert\",\n",
    "    goal=\"\"\"Receive the sentence list and review the sentence and return 'YES' if the sentence needs another word to make an enganging and humorous scene.\n",
    "    If the sentence seems complete without adding another word. return 'NO' \"\"\",\n",
    "    backstory=\"\"\"\"You are an improv expert in the 3 headed expert improv game and you make sure that only the words that \n",
    "    are needed are added. Hence, before adding words agents would ask you whether the sentence is humorous and engaging already\n",
    "    or they should add another word to build the sentence. If you say 'YES' they will add another word. \n",
    "    If you say 'NO' new word will not be added and the sentence would be terminated.\"\"\",\n",
    "    verbose=True,\n",
    "    llm=ds_llm\n",
    ")"
   ]
  },
  {
   "cell_type": "code",
   "execution_count": 156,
   "metadata": {},
   "outputs": [],
   "source": [
    "P1_task= Task(\n",
    "    description=\"\"\"We are playing a 3 headed expert improvisation game and you're the player one who generates one word as the one head based on the\n",
    "    {question} posed to you since you are an expert in the field {expertise_field}. \n",
    "    You can generate only one word at a time.\n",
    "    You are generating the next word to continue the {sentence} based on the words previously generated within the game.\"\"\",\n",
    "    expected_output=\"\"\"Return only the one next word in the sentence and nothing else\"\"\",\n",
    "    agent=Waterloo,\n",
    "    \n",
    ")"
   ]
  },
  {
   "cell_type": "code",
   "execution_count": 157,
   "metadata": {},
   "outputs": [],
   "source": [
    "P3_task= Task(\n",
    "    description=\"\"\"We are playing a 3 headed expert improvisation game and you're the player three who generates one word as the one head based on the\n",
    "    {question} posed to you since you are an expert in the field {expertise_field}. \n",
    "    You can generate only one word at a time.\n",
    "    You are generating the next word to continue the {sentence} based on the words previously generated within the game. \"\"\",\n",
    "    expected_output=\"\"\"Return only the one next word in the sentence and nothing else\"\"\",\n",
    "    agent=Farringdon,\n",
    "    \n",
    ")"
   ]
  },
  {
   "cell_type": "code",
   "execution_count": 158,
   "metadata": {},
   "outputs": [],
   "source": [
    "reviewer_task = Task(\n",
    "    description=\"\"\"\n",
    "        Check if {sentence} is already making sense and engaging and humrous or not. If it's not generate 'YES',\n",
    "        if it's already making sense and engaging and humrous return 'NO' Always Return \"YES\" if the \n",
    "        {sentence} is a null or blank.\n",
    "        \"\"\",\n",
    "    expected_output=\"Return Only YES or NO and nothing else\",\n",
    "    agent=Twyford,\n",
    ")"
   ]
  },
  {
   "cell_type": "code",
   "execution_count": 159,
   "metadata": {},
   "outputs": [],
   "source": [
    "def Check_Sentence(sentence):\n",
    "    crew_chk = Crew(\n",
    "    agents=[Twyford],\n",
    "    tasks=[reviewer_task])\n",
    "\n",
    "    crew_chk_output = crew_chk.kickoff(inputs={'sentence': sentence})\n",
    "\n",
    "    chk_result = crew_chk_output.raw\n",
    "    \n",
    "    return(chk_result)"
   ]
  },
  {
   "cell_type": "code",
   "execution_count": 160,
   "metadata": {},
   "outputs": [],
   "source": [
    "def threeheaded_game_process(expert_name,expertise_field,sent_dict):    \n",
    "    crew_q = Crew(\n",
    "    agents=[Victoria],\n",
    "    tasks=[question_gen_task])\n",
    "\n",
    "    crew_q_output = crew_q.kickoff(inputs={'expert_name': expert_name, 'expertise_field':expertise_field})\n",
    "\n",
    "    # Extract the question\n",
    "    question = crew_q_output.raw\n",
    "    print(question)\n",
    "\n",
    "    sentence=\"\"\n",
    "\n",
    "    while True:\n",
    "\n",
    "        if (Check_Sentence(sentence).lower()==\"yes\"):\n",
    "            crew_p1 = Crew(agents=[Waterloo],tasks=[P1_task])\n",
    "            crew_p1_output = crew_p1.kickoff(inputs={'question': question, 'expertise_field':expertise_field, 'sentence':sentence})\n",
    "            p1_word = crew_p1_output.raw\n",
    "            sentence=sentence+\" \"+p1_word\n",
    "        else:\n",
    "            break\n",
    "\n",
    "        if (Check_Sentence(sentence).lower()==\"yes\" and input(\"Do you want to add a word? (Y/N)\").lower()==\"y\"):\n",
    "            p2_word=input(\"Enter the next word: \")\n",
    "            sentence=sentence+\" \"+p2_word\n",
    "        else:\n",
    "            break\n",
    "\n",
    "        if (Check_Sentence(sentence).lower()==\"yes\"):\n",
    "            crew_p3 = Crew(agents=[Farringdon],tasks=[P3_task])\n",
    "            crew_p3_output = crew_p3.kickoff(inputs={'question': question, 'expertise_field':expertise_field, 'sentence':sentence})\n",
    "            p3_word = crew_p3_output.raw\n",
    "            sentence=sentence+\" \"+p3_word\n",
    "        else:\n",
    "            break\n",
    "    \n",
    "    \n",
    "    more=input(\"Do you want to continue asking more questions from our expert (Y/N), {expert_name}\")\n",
    "    if (more.lower()=='y'):\n",
    "        sent_dict[question] = sentence\n",
    "\n",
    "        threeheaded_game_process(expert_name,expertise_field,sent_dict)\n",
    "    else:\n",
    "        sent_dict[question] = sentence\n",
    "        return(sent_dict)\n",
    "        \n",
    "\n"
   ]
  },
  {
   "cell_type": "code",
   "execution_count": 161,
   "metadata": {},
   "outputs": [
    {
     "name": "stderr",
     "output_type": "stream",
     "text": [
      "WARNING:opentelemetry.trace:Overriding of current TracerProvider is not allowed\n"
     ]
    },
    {
     "name": "stdout",
     "output_type": "stream",
     "text": [
      "Expert Name: Cobbie Cobbles\n",
      "Field of Expertise: Cobbler\n",
      "\u001b[1m\u001b[95m# Agent:\u001b[00m \u001b[1m\u001b[92m3 Headed Expert Game Question Generator\u001b[00m\n",
      "\u001b[95m## Task:\u001b[00m \u001b[92mGenerate fun and engaging questions for the 3 headed expert games based on the prompt for the expert Cobbie Cobbles who\n",
      "    is an expert in the field of Cobbler. make sure you generate simple questions so that it suits a 12-15 year old in the audience.\n",
      "    Ensure that the questions generated are personal to the expert's life and are simple not complex\u001b[00m\n"
     ]
    },
    {
     "name": "stderr",
     "output_type": "stream",
     "text": [
      "WARNING:opentelemetry.trace:Overriding of current TracerProvider is not allowed\n"
     ]
    },
    {
     "name": "stdout",
     "output_type": "stream",
     "text": [
      "\n",
      "\n",
      "\u001b[1m\u001b[95m# Agent:\u001b[00m \u001b[1m\u001b[92m3 Headed Expert Game Question Generator\u001b[00m\n",
      "\u001b[95m## Final Answer:\u001b[00m \u001b[92m\n",
      "Cobbie, what's the most unusual thing you've ever had to fix on a shoe?\u001b[00m\n",
      "\n",
      "\n",
      "Cobbie, what's the most unusual thing you've ever had to fix on a shoe?\n",
      "\u001b[1m\u001b[95m# Agent:\u001b[00m \u001b[1m\u001b[92mImprov Expert\u001b[00m\n",
      "\u001b[95m## Task:\u001b[00m \u001b[92m\n",
      "        Check if  is already making sense and engaging and humrous or not. If it's not generate 'YES',\n",
      "        if it's already making sense and engaging and humrous return 'NO' Always Return \"YES\" if the \n",
      "         is a null or blank.\n",
      "        \u001b[00m\n"
     ]
    },
    {
     "name": "stderr",
     "output_type": "stream",
     "text": [
      "WARNING:opentelemetry.trace:Overriding of current TracerProvider is not allowed\n"
     ]
    },
    {
     "name": "stdout",
     "output_type": "stream",
     "text": [
      "\n",
      "\n",
      "\u001b[1m\u001b[95m# Agent:\u001b[00m \u001b[1m\u001b[92mImprov Expert\u001b[00m\n",
      "\u001b[95m## Final Answer:\u001b[00m \u001b[92m\n",
      "YES\u001b[00m\n",
      "\n",
      "\n",
      "\u001b[1m\u001b[95m# Agent:\u001b[00m \u001b[1m\u001b[92mPlayer 1 in the 3 headed expert game\u001b[00m\n",
      "\u001b[95m## Task:\u001b[00m \u001b[92mWe are playing a 3 headed expert improvisation game and you're the player one who generates one word as the one head based on the\n",
      "    Cobbie, what's the most unusual thing you've ever had to fix on a shoe? posed to you since you are an expert in the field Cobbler. \n",
      "    You can generate only one word at a time.\n",
      "    You are generating the next word to continue the  based on the words previously generated within the game.\u001b[00m\n"
     ]
    },
    {
     "name": "stderr",
     "output_type": "stream",
     "text": [
      "WARNING:opentelemetry.trace:Overriding of current TracerProvider is not allowed\n"
     ]
    },
    {
     "name": "stdout",
     "output_type": "stream",
     "text": [
      "\n",
      "\n",
      "\u001b[1m\u001b[95m# Agent:\u001b[00m \u001b[1m\u001b[92mPlayer 1 in the 3 headed expert game\u001b[00m\n",
      "\u001b[95m## Final Answer:\u001b[00m \u001b[92m\n",
      "heel\u001b[00m\n",
      "\n",
      "\n",
      "\u001b[1m\u001b[95m# Agent:\u001b[00m \u001b[1m\u001b[92mImprov Expert\u001b[00m\n",
      "\u001b[95m## Task:\u001b[00m \u001b[92m\n",
      "        Check if  heel is already making sense and engaging and humrous or not. If it's not generate 'YES',\n",
      "        if it's already making sense and engaging and humrous return 'NO' Always Return \"YES\" if the \n",
      "         heel is a null or blank.\n",
      "        \u001b[00m\n",
      "\n",
      "\n",
      "\u001b[1m\u001b[95m# Agent:\u001b[00m \u001b[1m\u001b[92mImprov Expert\u001b[00m\n",
      "\u001b[95m## Final Answer:\u001b[00m \u001b[92m\n",
      "YES\u001b[00m\n",
      "\n",
      "\n"
     ]
    },
    {
     "name": "stderr",
     "output_type": "stream",
     "text": [
      "WARNING:opentelemetry.trace:Overriding of current TracerProvider is not allowed\n"
     ]
    },
    {
     "name": "stdout",
     "output_type": "stream",
     "text": [
      "\u001b[1m\u001b[95m# Agent:\u001b[00m \u001b[1m\u001b[92mImprov Expert\u001b[00m\n",
      "\u001b[95m## Task:\u001b[00m \u001b[92m\n",
      "        Check if  heel broken is already making sense and engaging and humrous or not. If it's not generate 'YES',\n",
      "        if it's already making sense and engaging and humrous return 'NO' Always Return \"YES\" if the \n",
      "         heel broken is a null or blank.\n",
      "        \u001b[00m\n"
     ]
    },
    {
     "name": "stderr",
     "output_type": "stream",
     "text": [
      "WARNING:opentelemetry.trace:Overriding of current TracerProvider is not allowed\n"
     ]
    },
    {
     "name": "stdout",
     "output_type": "stream",
     "text": [
      "\n",
      "\n",
      "\u001b[1m\u001b[95m# Agent:\u001b[00m \u001b[1m\u001b[92mImprov Expert\u001b[00m\n",
      "\u001b[95m## Final Answer:\u001b[00m \u001b[92m\n",
      "YES\u001b[00m\n",
      "\n",
      "\n",
      "\u001b[1m\u001b[95m# Agent:\u001b[00m \u001b[1m\u001b[92mPlayer 3 in the 3 headed expert game\u001b[00m\n",
      "\u001b[95m## Task:\u001b[00m \u001b[92mWe are playing a 3 headed expert improvisation game and you're the player three who generates one word as the one head based on the\n",
      "    Cobbie, what's the most unusual thing you've ever had to fix on a shoe? posed to you since you are an expert in the field Cobbler. \n",
      "    You can generate only one word at a time.\n",
      "    You are generating the next word to continue the  heel broken based on the words previously generated within the game. \u001b[00m\n",
      "\u001b[91m \n",
      "\n",
      "Action 'Send the sentence to the Sentence Reviewer (agent Twyford)' don't exist, these are the only available Actions:\n",
      "\n",
      "\u001b[00m\n",
      "\n",
      "\n",
      "\u001b[1m\u001b[95m# Agent:\u001b[00m \u001b[1m\u001b[92mPlayer 3 in the 3 headed expert game\u001b[00m\n",
      "\u001b[95m## Using tool:\u001b[00m \u001b[92mSend the sentence to the Sentence Reviewer (agent Twyford)\u001b[00m\n",
      "\u001b[95m## Tool Input:\u001b[00m \u001b[92m\n",
      "\"heel broken\"\u001b[00m\n",
      "\u001b[95m## Tool Output:\u001b[00m \u001b[92m\n",
      "I encountered an error: Action 'Send the sentence to the Sentence Reviewer (agent Twyford)' don't exist, these are the only available Actions:\n",
      "\n",
      "Moving on then. I MUST either use a tool (use one at time) OR give my best final answer not both at the same time. When responding, I must use the following format:\n",
      "\n",
      "```\n",
      "Thought: you should always think about what to do\n",
      "Action: the action to take, should be one of []\n",
      "Action Input: the input to the action, dictionary enclosed in curly braces\n",
      "Observation: the result of the action\n",
      "```\n",
      "This Thought/Action/Action Input/Result can repeat N times. Once I know the final answer, I must return the following format:\n",
      "\n",
      "```\n",
      "Thought: I now can give a great answer\n",
      "Final Answer: Your final answer must be the great and the most complete as possible, it must be outcome described\n",
      "\n",
      "```\u001b[00m\n"
     ]
    },
    {
     "name": "stderr",
     "output_type": "stream",
     "text": [
      "WARNING:opentelemetry.trace:Overriding of current TracerProvider is not allowed\n"
     ]
    },
    {
     "name": "stdout",
     "output_type": "stream",
     "text": [
      "\n",
      "\n",
      "\u001b[1m\u001b[95m# Agent:\u001b[00m \u001b[1m\u001b[92mPlayer 3 in the 3 headed expert game\u001b[00m\n",
      "\u001b[95m## Final Answer:\u001b[00m \u001b[92m\n",
      "completely\u001b[00m\n",
      "\n",
      "\n",
      "\u001b[1m\u001b[95m# Agent:\u001b[00m \u001b[1m\u001b[92mImprov Expert\u001b[00m\n",
      "\u001b[95m## Task:\u001b[00m \u001b[92m\n",
      "        Check if  heel broken completely is already making sense and engaging and humrous or not. If it's not generate 'YES',\n",
      "        if it's already making sense and engaging and humrous return 'NO' Always Return \"YES\" if the \n",
      "         heel broken completely is a null or blank.\n",
      "        \u001b[00m\n"
     ]
    },
    {
     "name": "stderr",
     "output_type": "stream",
     "text": [
      "WARNING:opentelemetry.trace:Overriding of current TracerProvider is not allowed\n"
     ]
    },
    {
     "name": "stdout",
     "output_type": "stream",
     "text": [
      "\n",
      "\n",
      "\u001b[1m\u001b[95m# Agent:\u001b[00m \u001b[1m\u001b[92mImprov Expert\u001b[00m\n",
      "\u001b[95m## Final Answer:\u001b[00m \u001b[92m\n",
      "YES\u001b[00m\n",
      "\n",
      "\n",
      "\u001b[1m\u001b[95m# Agent:\u001b[00m \u001b[1m\u001b[92mPlayer 1 in the 3 headed expert game\u001b[00m\n",
      "\u001b[95m## Task:\u001b[00m \u001b[92mWe are playing a 3 headed expert improvisation game and you're the player one who generates one word as the one head based on the\n",
      "    Cobbie, what's the most unusual thing you've ever had to fix on a shoe? posed to you since you are an expert in the field Cobbler. \n",
      "    You can generate only one word at a time.\n",
      "    You are generating the next word to continue the  heel broken completely based on the words previously generated within the game.\u001b[00m\n"
     ]
    },
    {
     "name": "stderr",
     "output_type": "stream",
     "text": [
      "WARNING:opentelemetry.trace:Overriding of current TracerProvider is not allowed\n"
     ]
    },
    {
     "name": "stdout",
     "output_type": "stream",
     "text": [
      "\n",
      "\n",
      "\u001b[1m\u001b[95m# Agent:\u001b[00m \u001b[1m\u001b[92mPlayer 1 in the 3 headed expert game\u001b[00m\n",
      "\u001b[95m## Final Answer:\u001b[00m \u001b[92m\n",
      "wire\u001b[00m\n",
      "\n",
      "\n",
      "\u001b[1m\u001b[95m# Agent:\u001b[00m \u001b[1m\u001b[92mImprov Expert\u001b[00m\n",
      "\u001b[95m## Task:\u001b[00m \u001b[92m\n",
      "        Check if  heel broken completely wire is already making sense and engaging and humrous or not. If it's not generate 'YES',\n",
      "        if it's already making sense and engaging and humrous return 'NO' Always Return \"YES\" if the \n",
      "         heel broken completely wire is a null or blank.\n",
      "        \u001b[00m\n",
      "\n",
      "\n",
      "\u001b[1m\u001b[95m# Agent:\u001b[00m \u001b[1m\u001b[92mImprov Expert\u001b[00m\n",
      "\u001b[95m## Final Answer:\u001b[00m \u001b[92m\n",
      "YES\u001b[00m\n",
      "\n",
      "\n"
     ]
    },
    {
     "name": "stderr",
     "output_type": "stream",
     "text": [
      "WARNING:opentelemetry.trace:Overriding of current TracerProvider is not allowed\n"
     ]
    },
    {
     "name": "stdout",
     "output_type": "stream",
     "text": [
      "\u001b[1m\u001b[95m# Agent:\u001b[00m \u001b[1m\u001b[92mImprov Expert\u001b[00m\n",
      "\u001b[95m## Task:\u001b[00m \u001b[92m\n",
      "        Check if  heel broken completely wire torn is already making sense and engaging and humrous or not. If it's not generate 'YES',\n",
      "        if it's already making sense and engaging and humrous return 'NO' Always Return \"YES\" if the \n",
      "         heel broken completely wire torn is a null or blank.\n",
      "        \u001b[00m\n"
     ]
    },
    {
     "name": "stderr",
     "output_type": "stream",
     "text": [
      "WARNING:opentelemetry.trace:Overriding of current TracerProvider is not allowed\n"
     ]
    },
    {
     "name": "stdout",
     "output_type": "stream",
     "text": [
      "\n",
      "\n",
      "\u001b[1m\u001b[95m# Agent:\u001b[00m \u001b[1m\u001b[92mImprov Expert\u001b[00m\n",
      "\u001b[95m## Final Answer:\u001b[00m \u001b[92m\n",
      "YES\u001b[00m\n",
      "\n",
      "\n",
      "\u001b[1m\u001b[95m# Agent:\u001b[00m \u001b[1m\u001b[92mPlayer 3 in the 3 headed expert game\u001b[00m\n",
      "\u001b[95m## Task:\u001b[00m \u001b[92mWe are playing a 3 headed expert improvisation game and you're the player three who generates one word as the one head based on the\n",
      "    Cobbie, what's the most unusual thing you've ever had to fix on a shoe? posed to you since you are an expert in the field Cobbler. \n",
      "    You can generate only one word at a time.\n",
      "    You are generating the next word to continue the  heel broken completely wire torn based on the words previously generated within the game. \u001b[00m\n",
      "\u001b[91m \n",
      "\n",
      "Action 'Send the sentence \"heel broken completely wire torn\" to the Sentence Reviewer (agent Twyford).' don't exist, these are the only available Actions:\n",
      "\n",
      "\u001b[00m\n",
      "\n",
      "\n",
      "\u001b[1m\u001b[95m# Agent:\u001b[00m \u001b[1m\u001b[92mPlayer 3 in the 3 headed expert game\u001b[00m\n",
      "\u001b[95m## Using tool:\u001b[00m \u001b[92mSend the sentence \"heel broken completely wire torn\" to the Sentence Reviewer (agent Twyford).\u001b[00m\n",
      "\u001b[95m## Tool Input:\u001b[00m \u001b[92m\n",
      "\"heel broken completely wire torn\"\u001b[00m\n",
      "\u001b[95m## Tool Output:\u001b[00m \u001b[92m\n",
      "I encountered an error: Action 'Send the sentence \"heel broken completely wire torn\" to the Sentence Reviewer (agent Twyford).' don't exist, these are the only available Actions:\n",
      "\n",
      "Moving on then. I MUST either use a tool (use one at time) OR give my best final answer not both at the same time. When responding, I must use the following format:\n",
      "\n",
      "```\n",
      "Thought: you should always think about what to do\n",
      "Action: the action to take, should be one of []\n",
      "Action Input: the input to the action, dictionary enclosed in curly braces\n",
      "Observation: the result of the action\n",
      "```\n",
      "This Thought/Action/Action Input/Result can repeat N times. Once I know the final answer, I must return the following format:\n",
      "\n",
      "```\n",
      "Thought: I now can give a great answer\n",
      "Final Answer: Your final answer must be the great and the most complete as possible, it must be outcome described\n",
      "\n",
      "```\u001b[00m\n",
      "\u001b[91m \n",
      "\n",
      "Action 'Call the Sentence Reviewer (agent Twyford) to review the sentence.' don't exist, these are the only available Actions:\n",
      "\n",
      "\u001b[00m\n",
      "\n",
      "\n",
      "\u001b[1m\u001b[95m# Agent:\u001b[00m \u001b[1m\u001b[92mPlayer 3 in the 3 headed expert game\u001b[00m\n",
      "\u001b[95m## Using tool:\u001b[00m \u001b[92mCall the Sentence Reviewer (agent Twyford) to review the sentence.\u001b[00m\n",
      "\u001b[95m## Tool Input:\u001b[00m \u001b[92m\n",
      "\"{\\\"sentence\\\": \\\"heel broken completely wire torn\\\"}\"\u001b[00m\n",
      "\u001b[95m## Tool Output:\u001b[00m \u001b[92m\n",
      "I encountered an error: Action 'Call the Sentence Reviewer (agent Twyford) to review the sentence.' don't exist, these are the only available Actions:\n",
      "\n",
      "Moving on then. I MUST either use a tool (use one at time) OR give my best final answer not both at the same time. When responding, I must use the following format:\n",
      "\n",
      "```\n",
      "Thought: you should always think about what to do\n",
      "Action: the action to take, should be one of []\n",
      "Action Input: the input to the action, dictionary enclosed in curly braces\n",
      "Observation: the result of the action\n",
      "```\n",
      "This Thought/Action/Action Input/Result can repeat N times. Once I know the final answer, I must return the following format:\n",
      "\n",
      "```\n",
      "Thought: I now can give a great answer\n",
      "Final Answer: Your final answer must be the great and the most complete as possible, it must be outcome described\n",
      "\n",
      "```\u001b[00m\n",
      "\u001b[91m \n",
      "\n",
      "Action 'Use the Sentence Reviewer API' don't exist, these are the only available Actions:\n",
      "\n",
      "\u001b[00m\n",
      "\n",
      "\n",
      "\u001b[1m\u001b[95m# Agent:\u001b[00m \u001b[1m\u001b[92mPlayer 3 in the 3 headed expert game\u001b[00m\n",
      "\u001b[95m## Using tool:\u001b[00m \u001b[92mUse the Sentence Reviewer API\u001b[00m\n",
      "\u001b[95m## Tool Input:\u001b[00m \u001b[92m\n",
      "\"{\\\"sentence\\\": \\\"heel broken completely wire torn\\\"}\"\u001b[00m\n",
      "\u001b[95m## Tool Output:\u001b[00m \u001b[92m\n",
      "I encountered an error: Action 'Use the Sentence Reviewer API' don't exist, these are the only available Actions:\n",
      "\n",
      "Moving on then. I MUST either use a tool (use one at time) OR give my best final answer not both at the same time. When responding, I must use the following format:\n",
      "\n",
      "```\n",
      "Thought: you should always think about what to do\n",
      "Action: the action to take, should be one of []\n",
      "Action Input: the input to the action, dictionary enclosed in curly braces\n",
      "Observation: the result of the action\n",
      "```\n",
      "This Thought/Action/Action Input/Result can repeat N times. Once I know the final answer, I must return the following format:\n",
      "\n",
      "```\n",
      "Thought: I now can give a great answer\n",
      "Final Answer: Your final answer must be the great and the most complete as possible, it must be outcome described\n",
      "\n",
      "```\u001b[00m\n"
     ]
    },
    {
     "name": "stderr",
     "output_type": "stream",
     "text": [
      "WARNING:opentelemetry.trace:Overriding of current TracerProvider is not allowed\n"
     ]
    },
    {
     "name": "stdout",
     "output_type": "stream",
     "text": [
      "\n",
      "\n",
      "\u001b[1m\u001b[95m# Agent:\u001b[00m \u001b[1m\u001b[92mPlayer 3 in the 3 headed expert game\u001b[00m\n",
      "\u001b[95m## Final Answer:\u001b[00m \u001b[92m\n",
      "out\u001b[00m\n",
      "\n",
      "\n",
      "\u001b[1m\u001b[95m# Agent:\u001b[00m \u001b[1m\u001b[92mImprov Expert\u001b[00m\n",
      "\u001b[95m## Task:\u001b[00m \u001b[92m\n",
      "        Check if  heel broken completely wire torn out is already making sense and engaging and humrous or not. If it's not generate 'YES',\n",
      "        if it's already making sense and engaging and humrous return 'NO' Always Return \"YES\" if the \n",
      "         heel broken completely wire torn out is a null or blank.\n",
      "        \u001b[00m\n"
     ]
    },
    {
     "name": "stderr",
     "output_type": "stream",
     "text": [
      "WARNING:opentelemetry.trace:Overriding of current TracerProvider is not allowed\n"
     ]
    },
    {
     "name": "stdout",
     "output_type": "stream",
     "text": [
      "\n",
      "\n",
      "\u001b[1m\u001b[95m# Agent:\u001b[00m \u001b[1m\u001b[92mImprov Expert\u001b[00m\n",
      "\u001b[95m## Final Answer:\u001b[00m \u001b[92m\n",
      "YES\u001b[00m\n",
      "\n",
      "\n",
      "\u001b[1m\u001b[95m# Agent:\u001b[00m \u001b[1m\u001b[92mPlayer 1 in the 3 headed expert game\u001b[00m\n",
      "\u001b[95m## Task:\u001b[00m \u001b[92mWe are playing a 3 headed expert improvisation game and you're the player one who generates one word as the one head based on the\n",
      "    Cobbie, what's the most unusual thing you've ever had to fix on a shoe? posed to you since you are an expert in the field Cobbler. \n",
      "    You can generate only one word at a time.\n",
      "    You are generating the next word to continue the  heel broken completely wire torn out based on the words previously generated within the game.\u001b[00m\n"
     ]
    },
    {
     "name": "stderr",
     "output_type": "stream",
     "text": [
      "WARNING:opentelemetry.trace:Overriding of current TracerProvider is not allowed\n"
     ]
    },
    {
     "name": "stdout",
     "output_type": "stream",
     "text": [
      "\n",
      "\n",
      "\u001b[1m\u001b[95m# Agent:\u001b[00m \u001b[1m\u001b[92mPlayer 1 in the 3 headed expert game\u001b[00m\n",
      "\u001b[95m## Final Answer:\u001b[00m \u001b[92m\n",
      "leather\u001b[00m\n",
      "\n",
      "\n",
      "\u001b[1m\u001b[95m# Agent:\u001b[00m \u001b[1m\u001b[92mImprov Expert\u001b[00m\n",
      "\u001b[95m## Task:\u001b[00m \u001b[92m\n",
      "        Check if  heel broken completely wire torn out leather is already making sense and engaging and humrous or not. If it's not generate 'YES',\n",
      "        if it's already making sense and engaging and humrous return 'NO' Always Return \"YES\" if the \n",
      "         heel broken completely wire torn out leather is a null or blank.\n",
      "        \u001b[00m\n",
      "\n",
      "\n",
      "\u001b[1m\u001b[95m# Agent:\u001b[00m \u001b[1m\u001b[92mImprov Expert\u001b[00m\n",
      "\u001b[95m## Final Answer:\u001b[00m \u001b[92m\n",
      "YES\u001b[00m\n",
      "\n",
      "\n"
     ]
    },
    {
     "name": "stderr",
     "output_type": "stream",
     "text": [
      "WARNING:opentelemetry.trace:Overriding of current TracerProvider is not allowed\n"
     ]
    },
    {
     "name": "stdout",
     "output_type": "stream",
     "text": [
      "\u001b[1m\u001b[95m# Agent:\u001b[00m \u001b[1m\u001b[92mImprov Expert\u001b[00m\n",
      "\u001b[95m## Task:\u001b[00m \u001b[92m\n",
      "        Check if  heel broken completely wire torn out leather burnt is already making sense and engaging and humrous or not. If it's not generate 'YES',\n",
      "        if it's already making sense and engaging and humrous return 'NO' Always Return \"YES\" if the \n",
      "         heel broken completely wire torn out leather burnt is a null or blank.\n",
      "        \u001b[00m\n"
     ]
    },
    {
     "name": "stderr",
     "output_type": "stream",
     "text": [
      "WARNING:opentelemetry.trace:Overriding of current TracerProvider is not allowed\n"
     ]
    },
    {
     "name": "stdout",
     "output_type": "stream",
     "text": [
      "\n",
      "\n",
      "\u001b[1m\u001b[95m# Agent:\u001b[00m \u001b[1m\u001b[92mImprov Expert\u001b[00m\n",
      "\u001b[95m## Final Answer:\u001b[00m \u001b[92m\n",
      "YES\u001b[00m\n",
      "\n",
      "\n",
      "\u001b[1m\u001b[95m# Agent:\u001b[00m \u001b[1m\u001b[92mPlayer 3 in the 3 headed expert game\u001b[00m\n",
      "\u001b[95m## Task:\u001b[00m \u001b[92mWe are playing a 3 headed expert improvisation game and you're the player three who generates one word as the one head based on the\n",
      "    Cobbie, what's the most unusual thing you've ever had to fix on a shoe? posed to you since you are an expert in the field Cobbler. \n",
      "    You can generate only one word at a time.\n",
      "    You are generating the next word to continue the  heel broken completely wire torn out leather burnt based on the words previously generated within the game. \u001b[00m\n",
      "\u001b[91m \n",
      "\n",
      "Action 'Send the sentence \"heel broken completely wire torn out leather burnt\" to the Sentence Reviewer (agent Twyford).' don't exist, these are the only available Actions:\n",
      "\n",
      "\u001b[00m\n",
      "\n",
      "\n",
      "\u001b[1m\u001b[95m# Agent:\u001b[00m \u001b[1m\u001b[92mPlayer 3 in the 3 headed expert game\u001b[00m\n",
      "\u001b[95m## Using tool:\u001b[00m \u001b[92mSend the sentence \"heel broken completely wire torn out leather burnt\" to the Sentence Reviewer (agent Twyford).\u001b[00m\n",
      "\u001b[95m## Tool Input:\u001b[00m \u001b[92m\n",
      "\"heel broken completely wire torn out leather burnt\\\"\\n```\"\u001b[00m\n",
      "\u001b[95m## Tool Output:\u001b[00m \u001b[92m\n",
      "I encountered an error: Action 'Send the sentence \"heel broken completely wire torn out leather burnt\" to the Sentence Reviewer (agent Twyford).' don't exist, these are the only available Actions:\n",
      "\n",
      "Moving on then. I MUST either use a tool (use one at time) OR give my best final answer not both at the same time. When responding, I must use the following format:\n",
      "\n",
      "```\n",
      "Thought: you should always think about what to do\n",
      "Action: the action to take, should be one of []\n",
      "Action Input: the input to the action, dictionary enclosed in curly braces\n",
      "Observation: the result of the action\n",
      "```\n",
      "This Thought/Action/Action Input/Result can repeat N times. Once I know the final answer, I must return the following format:\n",
      "\n",
      "```\n",
      "Thought: I now can give a great answer\n",
      "Final Answer: Your final answer must be the great and the most complete as possible, it must be outcome described\n",
      "\n",
      "```\u001b[00m\n",
      "\u001b[91m \n",
      "\n",
      "Action '' after 'Thought:'. I will do right next, and don't use a tool I have already used.\n",
      "```\n",
      "Thought: I need to send the sentence to the Sentence Reviewer (agent Twyford) before generating the next word.\n",
      "Action: use the tool to send the sentence to agent Twyford' don't exist, these are the only available Actions:\n",
      "\n",
      "\u001b[00m\n",
      "\n",
      "\n",
      "\u001b[1m\u001b[95m# Agent:\u001b[00m \u001b[1m\u001b[92mPlayer 3 in the 3 headed expert game\u001b[00m\n",
      "\u001b[95m## Using tool:\u001b[00m \u001b[92m' after 'Thought:'. I will do right next, and don't use a tool I have already used.\n",
      "```\n",
      "Thought: I need to send the sentence to the Sentence Reviewer (agent Twyford) before generating the next word.\n",
      "Action: use the tool to send the sentence to agent Twyford\u001b[00m\n",
      "\u001b[95m## Tool Input:\u001b[00m \u001b[92m\n",
      "\"{\\\"sentence\\\": \\\"heel broken completely wire torn out leather burnt\\\"}\"\u001b[00m\n",
      "\u001b[95m## Tool Output:\u001b[00m \u001b[92m\n",
      "I encountered an error: Action '' after 'Thought:'. I will do right next, and don't use a tool I have already used.\n",
      "```\n",
      "Thought: I need to send the sentence to the Sentence Reviewer (agent Twyford) before generating the next word.\n",
      "Action: use the tool to send the sentence to agent Twyford' don't exist, these are the only available Actions:\n",
      "\n",
      "Moving on then. I MUST either use a tool (use one at time) OR give my best final answer not both at the same time. When responding, I must use the following format:\n",
      "\n",
      "```\n",
      "Thought: you should always think about what to do\n",
      "Action: the action to take, should be one of []\n",
      "Action Input: the input to the action, dictionary enclosed in curly braces\n",
      "Observation: the result of the action\n",
      "```\n",
      "This Thought/Action/Action Input/Result can repeat N times. Once I know the final answer, I must return the following format:\n",
      "\n",
      "```\n",
      "Thought: I now can give a great answer\n",
      "Final Answer: Your final answer must be the great and the most complete as possible, it must be outcome described\n",
      "\n",
      "```\u001b[00m\n",
      "\u001b[91m \n",
      "\n",
      "Action '' after 'Thought:'. I will do right next, and don't use a tool I have already used.\n",
      "```\n",
      "Thought: I need to send the sentence to the Sentence Reviewer (agent Twyford) before generating the next word.\n",
      "Action: Send the sentence to the Sentence Reviewer (agent Twyford)' don't exist, these are the only available Actions:\n",
      "\n",
      "\u001b[00m\n",
      "\n",
      "\n",
      "\u001b[1m\u001b[95m# Agent:\u001b[00m \u001b[1m\u001b[92mPlayer 3 in the 3 headed expert game\u001b[00m\n",
      "\u001b[95m## Using tool:\u001b[00m \u001b[92m' after 'Thought:'. I will do right next, and don't use a tool I have already used.\n",
      "```\n",
      "Thought: I need to send the sentence to the Sentence Reviewer (agent Twyford) before generating the next word.\n",
      "Action: Send the sentence to the Sentence Reviewer (agent Twyford)\u001b[00m\n",
      "\u001b[95m## Tool Input:\u001b[00m \u001b[92m\n",
      "\"{\\\"sentence\\\": \\\"heel broken completely wire torn out leather burnt\\\"}\"\u001b[00m\n",
      "\u001b[95m## Tool Output:\u001b[00m \u001b[92m\n",
      "I encountered an error: Action '' after 'Thought:'. I will do right next, and don't use a tool I have already used.\n",
      "```\n",
      "Thought: I need to send the sentence to the Sentence Reviewer (agent Twyford) before generating the next word.\n",
      "Action: Send the sentence to the Sentence Reviewer (agent Twyford)' don't exist, these are the only available Actions:\n",
      "\n",
      "Moving on then. I MUST either use a tool (use one at time) OR give my best final answer not both at the same time. When responding, I must use the following format:\n",
      "\n",
      "```\n",
      "Thought: you should always think about what to do\n",
      "Action: the action to take, should be one of []\n",
      "Action Input: the input to the action, dictionary enclosed in curly braces\n",
      "Observation: the result of the action\n",
      "```\n",
      "This Thought/Action/Action Input/Result can repeat N times. Once I know the final answer, I must return the following format:\n",
      "\n",
      "```\n",
      "Thought: I now can give a great answer\n",
      "Final Answer: Your final answer must be the great and the most complete as possible, it must be outcome described\n",
      "\n",
      "```\u001b[00m\n",
      "\u001b[91m \n",
      "\n",
      "Action '' after 'Thought:'. I will do right next, and don't use a tool I have already used.\n",
      "```\n",
      "Thought: I need to send the sentence to the Sentence Reviewer (agent Twyford) before generating the next word.\n",
      "Action: Use the Sentence Reviewer tool' don't exist, these are the only available Actions:\n",
      "\n",
      "\u001b[00m\n",
      "\n",
      "\n",
      "\u001b[1m\u001b[95m# Agent:\u001b[00m \u001b[1m\u001b[92mPlayer 3 in the 3 headed expert game\u001b[00m\n",
      "\u001b[95m## Using tool:\u001b[00m \u001b[92m' after 'Thought:'. I will do right next, and don't use a tool I have already used.\n",
      "```\n",
      "Thought: I need to send the sentence to the Sentence Reviewer (agent Twyford) before generating the next word.\n",
      "Action: Use the Sentence Reviewer tool\u001b[00m\n",
      "\u001b[95m## Tool Input:\u001b[00m \u001b[92m\n",
      "\"{\\\"sentence\\\": \\\"heel broken completely wire torn out leather burnt\\\"}\"\u001b[00m\n",
      "\u001b[95m## Tool Output:\u001b[00m \u001b[92m\n",
      "I encountered an error: Action '' after 'Thought:'. I will do right next, and don't use a tool I have already used.\n",
      "```\n",
      "Thought: I need to send the sentence to the Sentence Reviewer (agent Twyford) before generating the next word.\n",
      "Action: Use the Sentence Reviewer tool' don't exist, these are the only available Actions:\n",
      "\n",
      "Moving on then. I MUST either use a tool (use one at time) OR give my best final answer not both at the same time. When responding, I must use the following format:\n",
      "\n",
      "```\n",
      "Thought: you should always think about what to do\n",
      "Action: the action to take, should be one of []\n",
      "Action Input: the input to the action, dictionary enclosed in curly braces\n",
      "Observation: the result of the action\n",
      "```\n",
      "This Thought/Action/Action Input/Result can repeat N times. Once I know the final answer, I must return the following format:\n",
      "\n",
      "```\n",
      "Thought: I now can give a great answer\n",
      "Final Answer: Your final answer must be the great and the most complete as possible, it must be outcome described\n",
      "\n",
      "```\u001b[00m\n",
      "\u001b[91m \n",
      "\n",
      "Action '' after 'Thought:'. I will do right next, and don't use a tool I have already used.\n",
      "```\n",
      "Thought: I need to send the sentence to the Sentence Reviewer (agent Twyford) before generating the next word.\n",
      "Action: check_sentence' don't exist, these are the only available Actions:\n",
      "\n",
      "\u001b[00m\n",
      "\n",
      "\n",
      "\u001b[1m\u001b[95m# Agent:\u001b[00m \u001b[1m\u001b[92mPlayer 3 in the 3 headed expert game\u001b[00m\n",
      "\u001b[95m## Using tool:\u001b[00m \u001b[92m' after 'Thought:'. I will do right next, and don't use a tool I have already used.\n",
      "```\n",
      "Thought: I need to send the sentence to the Sentence Reviewer (agent Twyford) before generating the next word.\n",
      "Action: check_sentence\u001b[00m\n",
      "\u001b[95m## Tool Input:\u001b[00m \u001b[92m\n",
      "\"{\\\"sentence\\\": \\\"heel broken completely wire torn out leather burnt\\\"}\"\u001b[00m\n",
      "\u001b[95m## Tool Output:\u001b[00m \u001b[92m\n",
      "I encountered an error: Action '' after 'Thought:'. I will do right next, and don't use a tool I have already used.\n",
      "```\n",
      "Thought: I need to send the sentence to the Sentence Reviewer (agent Twyford) before generating the next word.\n",
      "Action: check_sentence' don't exist, these are the only available Actions:\n",
      "\n",
      "Moving on then. I MUST either use a tool (use one at time) OR give my best final answer not both at the same time. When responding, I must use the following format:\n",
      "\n",
      "```\n",
      "Thought: you should always think about what to do\n",
      "Action: the action to take, should be one of []\n",
      "Action Input: the input to the action, dictionary enclosed in curly braces\n",
      "Observation: the result of the action\n",
      "```\n",
      "This Thought/Action/Action Input/Result can repeat N times. Once I know the final answer, I must return the following format:\n",
      "\n",
      "```\n",
      "Thought: I now can give a great answer\n",
      "Final Answer: Your final answer must be the great and the most complete as possible, it must be outcome described\n",
      "\n",
      "```\u001b[00m\n"
     ]
    },
    {
     "name": "stderr",
     "output_type": "stream",
     "text": [
      "WARNING:opentelemetry.trace:Overriding of current TracerProvider is not allowed\n"
     ]
    },
    {
     "name": "stdout",
     "output_type": "stream",
     "text": [
      "\n",
      "\n",
      "\u001b[1m\u001b[95m# Agent:\u001b[00m \u001b[1m\u001b[92mPlayer 3 in the 3 headed expert game\u001b[00m\n",
      "\u001b[95m## Final Answer:\u001b[00m \u001b[92m\n",
      "and\n",
      "```\u001b[00m\n",
      "\n",
      "\n",
      "\u001b[1m\u001b[95m# Agent:\u001b[00m \u001b[1m\u001b[92mImprov Expert\u001b[00m\n",
      "\u001b[95m## Task:\u001b[00m \u001b[92m\n",
      "        Check if  heel broken completely wire torn out leather burnt and\n",
      "``` is already making sense and engaging and humrous or not. If it's not generate 'YES',\n",
      "        if it's already making sense and engaging and humrous return 'NO' Always Return \"YES\" if the \n",
      "         heel broken completely wire torn out leather burnt and\n",
      "``` is a null or blank.\n",
      "        \u001b[00m\n"
     ]
    },
    {
     "name": "stderr",
     "output_type": "stream",
     "text": [
      "WARNING:opentelemetry.trace:Overriding of current TracerProvider is not allowed\n"
     ]
    },
    {
     "name": "stdout",
     "output_type": "stream",
     "text": [
      "\n",
      "\n",
      "\u001b[1m\u001b[95m# Agent:\u001b[00m \u001b[1m\u001b[92mImprov Expert\u001b[00m\n",
      "\u001b[95m## Final Answer:\u001b[00m \u001b[92m\n",
      "YES\u001b[00m\n",
      "\n",
      "\n",
      "\u001b[1m\u001b[95m# Agent:\u001b[00m \u001b[1m\u001b[92mPlayer 1 in the 3 headed expert game\u001b[00m\n",
      "\u001b[95m## Task:\u001b[00m \u001b[92mWe are playing a 3 headed expert improvisation game and you're the player one who generates one word as the one head based on the\n",
      "    Cobbie, what's the most unusual thing you've ever had to fix on a shoe? posed to you since you are an expert in the field Cobbler. \n",
      "    You can generate only one word at a time.\n",
      "    You are generating the next word to continue the  heel broken completely wire torn out leather burnt and\n",
      "``` based on the words previously generated within the game.\u001b[00m\n"
     ]
    },
    {
     "name": "stderr",
     "output_type": "stream",
     "text": [
      "WARNING:opentelemetry.trace:Overriding of current TracerProvider is not allowed\n"
     ]
    },
    {
     "name": "stdout",
     "output_type": "stream",
     "text": [
      "\n",
      "\n",
      "\u001b[1m\u001b[95m# Agent:\u001b[00m \u001b[1m\u001b[92mPlayer 1 in the 3 headed expert game\u001b[00m\n",
      "\u001b[95m## Final Answer:\u001b[00m \u001b[92m\n",
      "molten\u001b[00m\n",
      "\n",
      "\n",
      "\u001b[1m\u001b[95m# Agent:\u001b[00m \u001b[1m\u001b[92mImprov Expert\u001b[00m\n",
      "\u001b[95m## Task:\u001b[00m \u001b[92m\n",
      "        Check if  heel broken completely wire torn out leather burnt and\n",
      "``` molten is already making sense and engaging and humrous or not. If it's not generate 'YES',\n",
      "        if it's already making sense and engaging and humrous return 'NO' Always Return \"YES\" if the \n",
      "         heel broken completely wire torn out leather burnt and\n",
      "``` molten is a null or blank.\n",
      "        \u001b[00m\n",
      "\n",
      "\n",
      "\u001b[1m\u001b[95m# Agent:\u001b[00m \u001b[1m\u001b[92mImprov Expert\u001b[00m\n",
      "\u001b[95m## Final Answer:\u001b[00m \u001b[92m\n",
      "YES\u001b[00m\n",
      "\n",
      "\n"
     ]
    },
    {
     "name": "stderr",
     "output_type": "stream",
     "text": [
      "WARNING:opentelemetry.trace:Overriding of current TracerProvider is not allowed\n"
     ]
    },
    {
     "name": "stdout",
     "output_type": "stream",
     "text": [
      "\u001b[1m\u001b[95m# Agent:\u001b[00m \u001b[1m\u001b[92mImprov Expert\u001b[00m\n",
      "\u001b[95m## Task:\u001b[00m \u001b[92m\n",
      "        Check if  heel broken completely wire torn out leather burnt and\n",
      "``` molten lava is already making sense and engaging and humrous or not. If it's not generate 'YES',\n",
      "        if it's already making sense and engaging and humrous return 'NO' Always Return \"YES\" if the \n",
      "         heel broken completely wire torn out leather burnt and\n",
      "``` molten lava is a null or blank.\n",
      "        \u001b[00m\n"
     ]
    },
    {
     "name": "stderr",
     "output_type": "stream",
     "text": [
      "WARNING:opentelemetry.trace:Overriding of current TracerProvider is not allowed\n"
     ]
    },
    {
     "name": "stdout",
     "output_type": "stream",
     "text": [
      "\n",
      "\n",
      "\u001b[1m\u001b[95m# Agent:\u001b[00m \u001b[1m\u001b[92mImprov Expert\u001b[00m\n",
      "\u001b[95m## Final Answer:\u001b[00m \u001b[92m\n",
      "YES\u001b[00m\n",
      "\n",
      "\n",
      "\u001b[1m\u001b[95m# Agent:\u001b[00m \u001b[1m\u001b[92mPlayer 3 in the 3 headed expert game\u001b[00m\n",
      "\u001b[95m## Task:\u001b[00m \u001b[92mWe are playing a 3 headed expert improvisation game and you're the player three who generates one word as the one head based on the\n",
      "    Cobbie, what's the most unusual thing you've ever had to fix on a shoe? posed to you since you are an expert in the field Cobbler. \n",
      "    You can generate only one word at a time.\n",
      "    You are generating the next word to continue the  heel broken completely wire torn out leather burnt and\n",
      "``` molten lava based on the words previously generated within the game. \u001b[00m\n",
      "\u001b[91m \n",
      "\n",
      "Action 'Send the sentence \"heel broken completely wire torn out leather burnt and molten lava\" to the Sentence Reviewer (agent Twyford).' don't exist, these are the only available Actions:\n",
      "\n",
      "\u001b[00m\n",
      "\n",
      "\n",
      "\u001b[1m\u001b[95m# Agent:\u001b[00m \u001b[1m\u001b[92mPlayer 3 in the 3 headed expert game\u001b[00m\n",
      "\u001b[95m## Using tool:\u001b[00m \u001b[92mSend the sentence \"heel broken completely wire torn out leather burnt and molten lava\" to the Sentence Reviewer (agent Twyford).\u001b[00m\n",
      "\u001b[95m## Tool Input:\u001b[00m \u001b[92m\n",
      "\"heel broken completely wire torn out leather burnt and molten lava\\\"\\n```\"\u001b[00m\n",
      "\u001b[95m## Tool Output:\u001b[00m \u001b[92m\n",
      "I encountered an error: Action 'Send the sentence \"heel broken completely wire torn out leather burnt and molten lava\" to the Sentence Reviewer (agent Twyford).' don't exist, these are the only available Actions:\n",
      "\n",
      "Moving on then. I MUST either use a tool (use one at time) OR give my best final answer not both at the same time. When responding, I must use the following format:\n",
      "\n",
      "```\n",
      "Thought: you should always think about what to do\n",
      "Action: the action to take, should be one of []\n",
      "Action Input: the input to the action, dictionary enclosed in curly braces\n",
      "Observation: the result of the action\n",
      "```\n",
      "This Thought/Action/Action Input/Result can repeat N times. Once I know the final answer, I must return the following format:\n",
      "\n",
      "```\n",
      "Thought: I now can give a great answer\n",
      "Final Answer: Your final answer must be the great and the most complete as possible, it must be outcome described\n",
      "\n",
      "```\u001b[00m\n",
      "\u001b[91m \n",
      "\n",
      "Action 'Send the sentence to Sentence Reviewer' don't exist, these are the only available Actions:\n",
      "\n",
      "\u001b[00m\n",
      "\n",
      "\n",
      "\u001b[1m\u001b[95m# Agent:\u001b[00m \u001b[1m\u001b[92mPlayer 3 in the 3 headed expert game\u001b[00m\n",
      "\u001b[95m## Using tool:\u001b[00m \u001b[92mSend the sentence to Sentence Reviewer\u001b[00m\n",
      "\u001b[95m## Tool Input:\u001b[00m \u001b[92m\n",
      "\"{\\\"sentence\\\": \\\"heel broken completely wire torn out leather burnt and molten lava\\\"}\"\u001b[00m\n",
      "\u001b[95m## Tool Output:\u001b[00m \u001b[92m\n",
      "I encountered an error: Action 'Send the sentence to Sentence Reviewer' don't exist, these are the only available Actions:\n",
      "\n",
      "Moving on then. I MUST either use a tool (use one at time) OR give my best final answer not both at the same time. When responding, I must use the following format:\n",
      "\n",
      "```\n",
      "Thought: you should always think about what to do\n",
      "Action: the action to take, should be one of []\n",
      "Action Input: the input to the action, dictionary enclosed in curly braces\n",
      "Observation: the result of the action\n",
      "```\n",
      "This Thought/Action/Action Input/Result can repeat N times. Once I know the final answer, I must return the following format:\n",
      "\n",
      "```\n",
      "Thought: I now can give a great answer\n",
      "Final Answer: Your final answer must be the great and the most complete as possible, it must be outcome described\n",
      "\n",
      "```\u001b[00m\n",
      "\u001b[91m \n",
      "\n",
      "Action '' after 'Thought:'. I will do right next, and don't use a tool I have already used.\n",
      "```\n",
      "Thought: I need to send the sentence to the Sentence Reviewer before generating the word.\n",
      "Action: Sentence Reviewer' don't exist, these are the only available Actions:\n",
      "\n",
      "\u001b[00m\n",
      "\n",
      "\n",
      "\u001b[1m\u001b[95m# Agent:\u001b[00m \u001b[1m\u001b[92mPlayer 3 in the 3 headed expert game\u001b[00m\n",
      "\u001b[95m## Using tool:\u001b[00m \u001b[92m' after 'Thought:'. I will do right next, and don't use a tool I have already used.\n",
      "```\n",
      "Thought: I need to send the sentence to the Sentence Reviewer before generating the word.\n",
      "Action: Sentence Reviewer\u001b[00m\n",
      "\u001b[95m## Tool Input:\u001b[00m \u001b[92m\n",
      "\"{\\\"sentence\\\": \\\"heel broken completely wire torn out leather burnt and molten lava\\\"}\"\u001b[00m\n",
      "\u001b[95m## Tool Output:\u001b[00m \u001b[92m\n",
      "I encountered an error: Action '' after 'Thought:'. I will do right next, and don't use a tool I have already used.\n",
      "```\n",
      "Thought: I need to send the sentence to the Sentence Reviewer before generating the word.\n",
      "Action: Sentence Reviewer' don't exist, these are the only available Actions:\n",
      "\n",
      "Moving on then. I MUST either use a tool (use one at time) OR give my best final answer not both at the same time. When responding, I must use the following format:\n",
      "\n",
      "```\n",
      "Thought: you should always think about what to do\n",
      "Action: the action to take, should be one of []\n",
      "Action Input: the input to the action, dictionary enclosed in curly braces\n",
      "Observation: the result of the action\n",
      "```\n",
      "This Thought/Action/Action Input/Result can repeat N times. Once I know the final answer, I must return the following format:\n",
      "\n",
      "```\n",
      "Thought: I now can give a great answer\n",
      "Final Answer: Your final answer must be the great and the most complete as possible, it must be outcome described\n",
      "\n",
      "```\u001b[00m\n",
      "\u001b[91m \n",
      "\n",
      "Action '' after 'Thought:'. I will do right next, and don't use a tool I have already used.\n",
      "```\n",
      "Thought: I need to check if the sentence is valid before generating the next word\n",
      "Action: Sentence Reviewer' don't exist, these are the only available Actions:\n",
      "\n",
      "\u001b[00m\n",
      "\n",
      "\n",
      "\u001b[1m\u001b[95m# Agent:\u001b[00m \u001b[1m\u001b[92mPlayer 3 in the 3 headed expert game\u001b[00m\n",
      "\u001b[95m## Using tool:\u001b[00m \u001b[92m' after 'Thought:'. I will do right next, and don't use a tool I have already used.\n",
      "```\n",
      "Thought: I need to check if the sentence is valid before generating the next word\n",
      "Action: Sentence Reviewer\u001b[00m\n",
      "\u001b[95m## Tool Input:\u001b[00m \u001b[92m\n",
      "\"{\\\"sentence\\\": \\\"heel broken completely wire torn out leather burnt and molten lava\\\"}\"\u001b[00m\n",
      "\u001b[95m## Tool Output:\u001b[00m \u001b[92m\n",
      "I encountered an error: Action '' after 'Thought:'. I will do right next, and don't use a tool I have already used.\n",
      "```\n",
      "Thought: I need to check if the sentence is valid before generating the next word\n",
      "Action: Sentence Reviewer' don't exist, these are the only available Actions:\n",
      "\n",
      "Moving on then. I MUST either use a tool (use one at time) OR give my best final answer not both at the same time. When responding, I must use the following format:\n",
      "\n",
      "```\n",
      "Thought: you should always think about what to do\n",
      "Action: the action to take, should be one of []\n",
      "Action Input: the input to the action, dictionary enclosed in curly braces\n",
      "Observation: the result of the action\n",
      "```\n",
      "This Thought/Action/Action Input/Result can repeat N times. Once I know the final answer, I must return the following format:\n",
      "\n",
      "```\n",
      "Thought: I now can give a great answer\n",
      "Final Answer: Your final answer must be the great and the most complete as possible, it must be outcome described\n",
      "\n",
      "```\u001b[00m\n"
     ]
    },
    {
     "name": "stderr",
     "output_type": "stream",
     "text": [
      "WARNING:opentelemetry.trace:Overriding of current TracerProvider is not allowed\n"
     ]
    },
    {
     "name": "stdout",
     "output_type": "stream",
     "text": [
      "\n",
      "\n",
      "\u001b[1m\u001b[95m# Agent:\u001b[00m \u001b[1m\u001b[92mPlayer 3 in the 3 headed expert game\u001b[00m\n",
      "\u001b[95m## Final Answer:\u001b[00m \u001b[92m\n",
      "solidified\n",
      "```\u001b[00m\n",
      "\n",
      "\n",
      "\u001b[1m\u001b[95m# Agent:\u001b[00m \u001b[1m\u001b[92mImprov Expert\u001b[00m\n",
      "\u001b[95m## Task:\u001b[00m \u001b[92m\n",
      "        Check if  heel broken completely wire torn out leather burnt and\n",
      "``` molten lava solidified\n",
      "``` is already making sense and engaging and humrous or not. If it's not generate 'YES',\n",
      "        if it's already making sense and engaging and humrous return 'NO' Always Return \"YES\" if the \n",
      "         heel broken completely wire torn out leather burnt and\n",
      "``` molten lava solidified\n",
      "``` is a null or blank.\n",
      "        \u001b[00m\n",
      "\n",
      "\n",
      "\u001b[1m\u001b[95m# Agent:\u001b[00m \u001b[1m\u001b[92mImprov Expert\u001b[00m\n",
      "\u001b[95m## Final Answer:\u001b[00m \u001b[92m\n",
      "NO\u001b[00m\n",
      "\n",
      "\n"
     ]
    },
    {
     "name": "stderr",
     "output_type": "stream",
     "text": [
      "WARNING:opentelemetry.trace:Overriding of current TracerProvider is not allowed\n"
     ]
    },
    {
     "name": "stdout",
     "output_type": "stream",
     "text": [
      "\u001b[1m\u001b[95m# Agent:\u001b[00m \u001b[1m\u001b[92m3 Headed Expert Game Question Generator\u001b[00m\n",
      "\u001b[95m## Task:\u001b[00m \u001b[92mGenerate fun and engaging questions for the 3 headed expert games based on the prompt for the expert Cobbie Cobbles who\n",
      "    is an expert in the field of Cobbler. make sure you generate simple questions so that it suits a 12-15 year old in the audience.\n",
      "    Ensure that the questions generated are personal to the expert's life and are simple not complex\u001b[00m\n"
     ]
    },
    {
     "name": "stderr",
     "output_type": "stream",
     "text": [
      "WARNING:opentelemetry.trace:Overriding of current TracerProvider is not allowed\n"
     ]
    },
    {
     "name": "stdout",
     "output_type": "stream",
     "text": [
      "\n",
      "\n",
      "\u001b[1m\u001b[95m# Agent:\u001b[00m \u001b[1m\u001b[92m3 Headed Expert Game Question Generator\u001b[00m\n",
      "\u001b[95m## Final Answer:\u001b[00m \u001b[92m\n",
      "Cobbie Cobbles, what's the most unusual thing you've ever found inside a shoe brought to you for repair?\u001b[00m\n",
      "\n",
      "\n",
      "Cobbie Cobbles, what's the most unusual thing you've ever found inside a shoe brought to you for repair?\n",
      "\u001b[1m\u001b[95m# Agent:\u001b[00m \u001b[1m\u001b[92mImprov Expert\u001b[00m\n",
      "\u001b[95m## Task:\u001b[00m \u001b[92m\n",
      "        Check if  is already making sense and engaging and humrous or not. If it's not generate 'YES',\n",
      "        if it's already making sense and engaging and humrous return 'NO' Always Return \"YES\" if the \n",
      "         is a null or blank.\n",
      "        \u001b[00m\n"
     ]
    },
    {
     "name": "stderr",
     "output_type": "stream",
     "text": [
      "WARNING:opentelemetry.trace:Overriding of current TracerProvider is not allowed\n"
     ]
    },
    {
     "name": "stdout",
     "output_type": "stream",
     "text": [
      "\n",
      "\n",
      "\u001b[1m\u001b[95m# Agent:\u001b[00m \u001b[1m\u001b[92mImprov Expert\u001b[00m\n",
      "\u001b[95m## Final Answer:\u001b[00m \u001b[92m\n",
      "YES\u001b[00m\n",
      "\n",
      "\n",
      "\u001b[1m\u001b[95m# Agent:\u001b[00m \u001b[1m\u001b[92mPlayer 1 in the 3 headed expert game\u001b[00m\n",
      "\u001b[95m## Task:\u001b[00m \u001b[92mWe are playing a 3 headed expert improvisation game and you're the player one who generates one word as the one head based on the\n",
      "    Cobbie Cobbles, what's the most unusual thing you've ever found inside a shoe brought to you for repair? posed to you since you are an expert in the field Cobbler. \n",
      "    You can generate only one word at a time.\n",
      "    You are generating the next word to continue the  based on the words previously generated within the game.\u001b[00m\n"
     ]
    },
    {
     "name": "stderr",
     "output_type": "stream",
     "text": [
      "WARNING:opentelemetry.trace:Overriding of current TracerProvider is not allowed\n"
     ]
    },
    {
     "name": "stdout",
     "output_type": "stream",
     "text": [
      "\n",
      "\n",
      "\u001b[1m\u001b[95m# Agent:\u001b[00m \u001b[1m\u001b[92mPlayer 1 in the 3 headed expert game\u001b[00m\n",
      "\u001b[95m## Final Answer:\u001b[00m \u001b[92m\n",
      "Live\u001b[00m\n",
      "\n",
      "\n",
      "\u001b[1m\u001b[95m# Agent:\u001b[00m \u001b[1m\u001b[92mImprov Expert\u001b[00m\n",
      "\u001b[95m## Task:\u001b[00m \u001b[92m\n",
      "        Check if  Live is already making sense and engaging and humrous or not. If it's not generate 'YES',\n",
      "        if it's already making sense and engaging and humrous return 'NO' Always Return \"YES\" if the \n",
      "         Live is a null or blank.\n",
      "        \u001b[00m\n",
      "\n",
      "\n",
      "\u001b[1m\u001b[95m# Agent:\u001b[00m \u001b[1m\u001b[92mImprov Expert\u001b[00m\n",
      "\u001b[95m## Final Answer:\u001b[00m \u001b[92m\n",
      "YES\u001b[00m\n",
      "\n",
      "\n"
     ]
    },
    {
     "name": "stderr",
     "output_type": "stream",
     "text": [
      "WARNING:opentelemetry.trace:Overriding of current TracerProvider is not allowed\n"
     ]
    },
    {
     "name": "stdout",
     "output_type": "stream",
     "text": [
      "\u001b[1m\u001b[95m# Agent:\u001b[00m \u001b[1m\u001b[92mImprov Expert\u001b[00m\n",
      "\u001b[95m## Task:\u001b[00m \u001b[92m\n",
      "        Check if  Live cockroaches is already making sense and engaging and humrous or not. If it's not generate 'YES',\n",
      "        if it's already making sense and engaging and humrous return 'NO' Always Return \"YES\" if the \n",
      "         Live cockroaches is a null or blank.\n",
      "        \u001b[00m\n"
     ]
    },
    {
     "name": "stderr",
     "output_type": "stream",
     "text": [
      "WARNING:opentelemetry.trace:Overriding of current TracerProvider is not allowed\n"
     ]
    },
    {
     "name": "stdout",
     "output_type": "stream",
     "text": [
      "\n",
      "\n",
      "\u001b[1m\u001b[95m# Agent:\u001b[00m \u001b[1m\u001b[92mImprov Expert\u001b[00m\n",
      "\u001b[95m## Final Answer:\u001b[00m \u001b[92m\n",
      "YES\u001b[00m\n",
      "\n",
      "\n",
      "\u001b[1m\u001b[95m# Agent:\u001b[00m \u001b[1m\u001b[92mPlayer 3 in the 3 headed expert game\u001b[00m\n",
      "\u001b[95m## Task:\u001b[00m \u001b[92mWe are playing a 3 headed expert improvisation game and you're the player three who generates one word as the one head based on the\n",
      "    Cobbie Cobbles, what's the most unusual thing you've ever found inside a shoe brought to you for repair? posed to you since you are an expert in the field Cobbler. \n",
      "    You can generate only one word at a time.\n",
      "    You are generating the next word to continue the  Live cockroaches based on the words previously generated within the game. \u001b[00m\n",
      "\u001b[91m \n",
      "\n",
      "Action 'Send the sentence \"Live cockroaches\" to the Sentence Reviewer.' don't exist, these are the only available Actions:\n",
      "\n",
      "\u001b[00m\n",
      "\n",
      "\n",
      "\u001b[1m\u001b[95m# Agent:\u001b[00m \u001b[1m\u001b[92mPlayer 3 in the 3 headed expert game\u001b[00m\n",
      "\u001b[95m## Using tool:\u001b[00m \u001b[92mSend the sentence \"Live cockroaches\" to the Sentence Reviewer.\u001b[00m\n",
      "\u001b[95m## Tool Input:\u001b[00m \u001b[92m\n",
      "\"Live cockroaches\\\"\\n```\"\u001b[00m\n",
      "\u001b[95m## Tool Output:\u001b[00m \u001b[92m\n",
      "I encountered an error: Action 'Send the sentence \"Live cockroaches\" to the Sentence Reviewer.' don't exist, these are the only available Actions:\n",
      "\n",
      "Moving on then. I MUST either use a tool (use one at time) OR give my best final answer not both at the same time. When responding, I must use the following format:\n",
      "\n",
      "```\n",
      "Thought: you should always think about what to do\n",
      "Action: the action to take, should be one of []\n",
      "Action Input: the input to the action, dictionary enclosed in curly braces\n",
      "Observation: the result of the action\n",
      "```\n",
      "This Thought/Action/Action Input/Result can repeat N times. Once I know the final answer, I must return the following format:\n",
      "\n",
      "```\n",
      "Thought: I now can give a great answer\n",
      "Final Answer: Your final answer must be the great and the most complete as possible, it must be outcome described\n",
      "\n",
      "```\u001b[00m\n",
      "\u001b[91m \n",
      "\n",
      "Action 'Send the sentence to Sentence Reviewer' don't exist, these are the only available Actions:\n",
      "\n",
      "\u001b[00m\n",
      "\n",
      "\n",
      "\u001b[1m\u001b[95m# Agent:\u001b[00m \u001b[1m\u001b[92mPlayer 3 in the 3 headed expert game\u001b[00m\n",
      "\u001b[95m## Using tool:\u001b[00m \u001b[92mSend the sentence to Sentence Reviewer\u001b[00m\n",
      "\u001b[95m## Tool Input:\u001b[00m \u001b[92m\n",
      "\"{\\\"sentence\\\": \\\"Live cockroaches\\\"}\"\u001b[00m\n",
      "\u001b[95m## Tool Output:\u001b[00m \u001b[92m\n",
      "I encountered an error: Action 'Send the sentence to Sentence Reviewer' don't exist, these are the only available Actions:\n",
      "\n",
      "Moving on then. I MUST either use a tool (use one at time) OR give my best final answer not both at the same time. When responding, I must use the following format:\n",
      "\n",
      "```\n",
      "Thought: you should always think about what to do\n",
      "Action: the action to take, should be one of []\n",
      "Action Input: the input to the action, dictionary enclosed in curly braces\n",
      "Observation: the result of the action\n",
      "```\n",
      "This Thought/Action/Action Input/Result can repeat N times. Once I know the final answer, I must return the following format:\n",
      "\n",
      "```\n",
      "Thought: I now can give a great answer\n",
      "Final Answer: Your final answer must be the great and the most complete as possible, it must be outcome described\n",
      "\n",
      "```\u001b[00m\n",
      "\u001b[91m \n",
      "\n",
      "Action 'Use Sentence Reviewer' don't exist, these are the only available Actions:\n",
      "\n",
      "\u001b[00m\n",
      "\n",
      "\n",
      "\u001b[1m\u001b[95m# Agent:\u001b[00m \u001b[1m\u001b[92mPlayer 3 in the 3 headed expert game\u001b[00m\n",
      "\u001b[95m## Using tool:\u001b[00m \u001b[92mUse Sentence Reviewer\u001b[00m\n",
      "\u001b[95m## Tool Input:\u001b[00m \u001b[92m\n",
      "\"{\\\"sentence\\\": \\\"Live cockroaches\\\"}\"\u001b[00m\n",
      "\u001b[95m## Tool Output:\u001b[00m \u001b[92m\n",
      "I encountered an error: Action 'Use Sentence Reviewer' don't exist, these are the only available Actions:\n",
      "\n",
      "Moving on then. I MUST either use a tool (use one at time) OR give my best final answer not both at the same time. When responding, I must use the following format:\n",
      "\n",
      "```\n",
      "Thought: you should always think about what to do\n",
      "Action: the action to take, should be one of []\n",
      "Action Input: the input to the action, dictionary enclosed in curly braces\n",
      "Observation: the result of the action\n",
      "```\n",
      "This Thought/Action/Action Input/Result can repeat N times. Once I know the final answer, I must return the following format:\n",
      "\n",
      "```\n",
      "Thought: I now can give a great answer\n",
      "Final Answer: Your final answer must be the great and the most complete as possible, it must be outcome described\n",
      "\n",
      "```\u001b[00m\n",
      "\u001b[91m \n",
      "\n",
      "Action 'Send to Twyford' don't exist, these are the only available Actions:\n",
      "\n",
      "\u001b[00m\n",
      "\n",
      "\n",
      "\u001b[1m\u001b[95m# Agent:\u001b[00m \u001b[1m\u001b[92mPlayer 3 in the 3 headed expert game\u001b[00m\n",
      "\u001b[95m## Using tool:\u001b[00m \u001b[92mSend to Twyford\u001b[00m\n",
      "\u001b[95m## Tool Input:\u001b[00m \u001b[92m\n",
      "\"{\\\"sentence\\\": \\\"Live cockroaches\\\"}\"\u001b[00m\n",
      "\u001b[95m## Tool Output:\u001b[00m \u001b[92m\n",
      "I encountered an error: Action 'Send to Twyford' don't exist, these are the only available Actions:\n",
      "\n",
      "Moving on then. I MUST either use a tool (use one at time) OR give my best final answer not both at the same time. When responding, I must use the following format:\n",
      "\n",
      "```\n",
      "Thought: you should always think about what to do\n",
      "Action: the action to take, should be one of []\n",
      "Action Input: the input to the action, dictionary enclosed in curly braces\n",
      "Observation: the result of the action\n",
      "```\n",
      "This Thought/Action/Action Input/Result can repeat N times. Once I know the final answer, I must return the following format:\n",
      "\n",
      "```\n",
      "Thought: I now can give a great answer\n",
      "Final Answer: Your final answer must be the great and the most complete as possible, it must be outcome described\n",
      "\n",
      "```\u001b[00m\n",
      "\u001b[91m \n",
      "\n",
      "Action 'Sentence Reviewer' don't exist, these are the only available Actions:\n",
      "\n",
      "\u001b[00m\n",
      "\n",
      "\n",
      "\u001b[1m\u001b[95m# Agent:\u001b[00m \u001b[1m\u001b[92mPlayer 3 in the 3 headed expert game\u001b[00m\n",
      "\u001b[95m## Using tool:\u001b[00m \u001b[92mSentence Reviewer\u001b[00m\n",
      "\u001b[95m## Tool Input:\u001b[00m \u001b[92m\n",
      "\"{\\\"sentence\\\": \\\"Live cockroaches\\\"}\"\u001b[00m\n",
      "\u001b[95m## Tool Output:\u001b[00m \u001b[92m\n",
      "I encountered an error: Action 'Sentence Reviewer' don't exist, these are the only available Actions:\n",
      "\n",
      "Moving on then. I MUST either use a tool (use one at time) OR give my best final answer not both at the same time. When responding, I must use the following format:\n",
      "\n",
      "```\n",
      "Thought: you should always think about what to do\n",
      "Action: the action to take, should be one of []\n",
      "Action Input: the input to the action, dictionary enclosed in curly braces\n",
      "Observation: the result of the action\n",
      "```\n",
      "This Thought/Action/Action Input/Result can repeat N times. Once I know the final answer, I must return the following format:\n",
      "\n",
      "```\n",
      "Thought: I now can give a great answer\n",
      "Final Answer: Your final answer must be the great and the most complete as possible, it must be outcome described\n",
      "\n",
      "```\u001b[00m\n"
     ]
    },
    {
     "name": "stderr",
     "output_type": "stream",
     "text": [
      "WARNING:opentelemetry.trace:Overriding of current TracerProvider is not allowed\n"
     ]
    },
    {
     "name": "stdout",
     "output_type": "stream",
     "text": [
      "\n",
      "\n",
      "\u001b[1m\u001b[95m# Agent:\u001b[00m \u001b[1m\u001b[92mPlayer 3 in the 3 headed expert game\u001b[00m\n",
      "\u001b[95m## Final Answer:\u001b[00m \u001b[92m\n",
      "crawling\u001b[00m\n",
      "\n",
      "\n",
      "\u001b[1m\u001b[95m# Agent:\u001b[00m \u001b[1m\u001b[92mImprov Expert\u001b[00m\n",
      "\u001b[95m## Task:\u001b[00m \u001b[92m\n",
      "        Check if  Live cockroaches crawling is already making sense and engaging and humrous or not. If it's not generate 'YES',\n",
      "        if it's already making sense and engaging and humrous return 'NO' Always Return \"YES\" if the \n",
      "         Live cockroaches crawling is a null or blank.\n",
      "        \u001b[00m\n"
     ]
    },
    {
     "name": "stderr",
     "output_type": "stream",
     "text": [
      "WARNING:opentelemetry.trace:Overriding of current TracerProvider is not allowed\n"
     ]
    },
    {
     "name": "stdout",
     "output_type": "stream",
     "text": [
      "\n",
      "\n",
      "\u001b[1m\u001b[95m# Agent:\u001b[00m \u001b[1m\u001b[92mImprov Expert\u001b[00m\n",
      "\u001b[95m## Final Answer:\u001b[00m \u001b[92m\n",
      "YES\u001b[00m\n",
      "\n",
      "\n",
      "\u001b[1m\u001b[95m# Agent:\u001b[00m \u001b[1m\u001b[92mPlayer 1 in the 3 headed expert game\u001b[00m\n",
      "\u001b[95m## Task:\u001b[00m \u001b[92mWe are playing a 3 headed expert improvisation game and you're the player one who generates one word as the one head based on the\n",
      "    Cobbie Cobbles, what's the most unusual thing you've ever found inside a shoe brought to you for repair? posed to you since you are an expert in the field Cobbler. \n",
      "    You can generate only one word at a time.\n",
      "    You are generating the next word to continue the  Live cockroaches crawling based on the words previously generated within the game.\u001b[00m\n"
     ]
    },
    {
     "name": "stderr",
     "output_type": "stream",
     "text": [
      "WARNING:opentelemetry.trace:Overriding of current TracerProvider is not allowed\n"
     ]
    },
    {
     "name": "stdout",
     "output_type": "stream",
     "text": [
      "\n",
      "\n",
      "\u001b[1m\u001b[95m# Agent:\u001b[00m \u001b[1m\u001b[92mPlayer 1 in the 3 headed expert game\u001b[00m\n",
      "\u001b[95m## Final Answer:\u001b[00m \u001b[92m\n",
      "Live\u001b[00m\n",
      "\n",
      "\n",
      "\u001b[1m\u001b[95m# Agent:\u001b[00m \u001b[1m\u001b[92mImprov Expert\u001b[00m\n",
      "\u001b[95m## Task:\u001b[00m \u001b[92m\n",
      "        Check if  Live cockroaches crawling Live is already making sense and engaging and humrous or not. If it's not generate 'YES',\n",
      "        if it's already making sense and engaging and humrous return 'NO' Always Return \"YES\" if the \n",
      "         Live cockroaches crawling Live is a null or blank.\n",
      "        \u001b[00m\n",
      "\n",
      "\n",
      "\u001b[1m\u001b[95m# Agent:\u001b[00m \u001b[1m\u001b[92mImprov Expert\u001b[00m\n",
      "\u001b[95m## Final Answer:\u001b[00m \u001b[92m\n",
      "YES\u001b[00m\n",
      "\n",
      "\n"
     ]
    }
   ],
   "source": [
    "# Take input from the user\n",
    "expert_name = input(\"Enter the expert's name: \")\n",
    "expertise_field = input(\"Enter the field of expertise: \")\n",
    "\n",
    "# Now you can use these variables in your existing code\n",
    "print(f\"Expert Name: {expert_name}\")\n",
    "print(f\"Field of Expertise: {expertise_field}\")\n",
    "\n",
    "sent_dict={}\n",
    "output=[]\n",
    "output=threeheaded_game_process(expert_name, expertise_field, sent_dict)"
   ]
  },
  {
   "cell_type": "code",
   "execution_count": 162,
   "metadata": {},
   "outputs": [
    {
     "data": {
      "text/plain": [
       "{\"Cobbie, what's the most unusual thing you've ever had to fix on a shoe?\": ' heel broken completely wire torn out leather burnt and\\n``` molten lava solidified\\n```',\n",
       " \"Cobbie Cobbles, what's the most unusual thing you've ever found inside a shoe brought to you for repair?\": ' Live cockroaches crawling Live'}"
      ]
     },
     "execution_count": 162,
     "metadata": {},
     "output_type": "execute_result"
    }
   ],
   "source": [
    "sent_dict"
   ]
  }
 ],
 "metadata": {
  "kernelspec": {
   "display_name": ".venv",
   "language": "python",
   "name": "python3"
  },
  "language_info": {
   "codemirror_mode": {
    "name": "ipython",
    "version": 3
   },
   "file_extension": ".py",
   "mimetype": "text/x-python",
   "name": "python",
   "nbconvert_exporter": "python",
   "pygments_lexer": "ipython3",
   "version": "3.12.2"
  }
 },
 "nbformat": 4,
 "nbformat_minor": 2
}
